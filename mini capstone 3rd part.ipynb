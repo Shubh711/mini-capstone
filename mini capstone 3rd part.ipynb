{
 "cells": [
  {
   "cell_type": "code",
   "execution_count": 10,
   "id": "26c44687",
   "metadata": {},
   "outputs": [],
   "source": [
    "##QUESTION 1"
   ]
  },
  {
   "cell_type": "code",
   "execution_count": null,
   "id": "55d7715f",
   "metadata": {},
   "outputs": [],
   "source": [
    "#2. In this function using itertools library to find all possible subset combination of given p elements\n",
    "#   after coverting tuples into list , made list of lists of all possible subset\n",
    "#   finally iterating through each sublist subtracting max-min value and appending it into final list\n",
    "#   and from that final list selecting the minimum value as an output."
   ]
  },
  {
   "cell_type": "code",
   "execution_count": 15,
   "id": "e20bd841",
   "metadata": {},
   "outputs": [],
   "source": [
    "def Find_Min_Diffrence(L,P):\n",
    "    from itertools import combinations\n",
    "    comb = combinations(L,P)\n",
    "    lst = []\n",
    "    final_out = []\n",
    "    for x in list(comb):\n",
    "        lst.append(list(x))\n",
    "    for i in range(len(lst)):\n",
    "        final_out.append(max(lst[i])-min(lst[i]))\n",
    "    return (min(final_out)) "
   ]
  },
  {
   "cell_type": "code",
   "execution_count": null,
   "id": "3dec80ea",
   "metadata": {},
   "outputs": [],
   "source": [
    "#1st step = taking list as input in string format using .split function \n",
    "#           then converting it into a list of integer using list comprehension\n",
    "#           after that putting it into a funtion of find min diffrence with 2 attribute."
   ]
  },
  {
   "cell_type": "code",
   "execution_count": 24,
   "id": "a7643a5e",
   "metadata": {},
   "outputs": [
    {
     "name": "stdout",
     "output_type": "stream",
     "text": [
      "enter integer values \n",
      "3 4 1 9 56 7 9 12 13\n",
      "enter an integer \n",
      "5\n"
     ]
    },
    {
     "data": {
      "text/plain": [
       "6"
      ]
     },
     "execution_count": 24,
     "metadata": {},
     "output_type": "execute_result"
    }
   ],
   "source": [
    "lst = input(\"enter integer values \\n\").split()\n",
    "P = int(input(\"enter an integer \\n\"))\n",
    "L = [int(i) for i in L]\n",
    "L\n",
    "Find_Min_Diffrence(L,P)"
   ]
  },
  {
   "cell_type": "code",
   "execution_count": null,
   "id": "0f24c084",
   "metadata": {},
   "outputs": [],
   "source": []
  },
  {
   "cell_type": "code",
   "execution_count": null,
   "id": "ce9d67a9",
   "metadata": {},
   "outputs": [],
   "source": []
  },
  {
   "cell_type": "code",
   "execution_count": 1,
   "id": "e196b755",
   "metadata": {},
   "outputs": [],
   "source": [
    "##QUESTION 2"
   ]
  },
  {
   "cell_type": "code",
   "execution_count": 6,
   "id": "1e930511",
   "metadata": {},
   "outputs": [],
   "source": [
    "# creating a funtion which will check all the numbers if they are prime or not \n",
    "# and later it will add to a prime list if it is a prime number.\n",
    "def prime_lst(number):\n",
    "    prime = []\n",
    "    if number <= 1 or number % 2 != 0: #it will not take any invalid input as negative or odd numbers\n",
    "        return 'Enter a valid even number'\n",
    "    for num in range(2,number+1):\n",
    "        if num > 1:\n",
    "            for i in range(2,num):\n",
    "                if num%i == 0:\n",
    "                    break \n",
    "            else:\n",
    "                prime.append(num)\n",
    "    return prime"
   ]
  },
  {
   "cell_type": "code",
   "execution_count": 7,
   "id": "0d527f7a",
   "metadata": {},
   "outputs": [],
   "source": [
    "# creating second funtion which will combine 2 elements if their sum is equal to number and first element less than\n",
    "# equal to second element.\n",
    "def goldbach(prime_nos,number):\n",
    "    lst_of_combo = []\n",
    "    for x in prime_nos: #iteration of 1st element with 2nd element using 2 nested for loops\n",
    "        for y in prime_nos:\n",
    "            if x+y == number and x <= y: \n",
    "                lst_of_combo.append(x)\n",
    "                lst_of_combo.append(y)\n",
    "    lst_of_tuple = [(lst_of_combo[ele],lst_of_combo[ele+1]) for ele in range(0,len(lst_of_combo),2)]\n",
    "    #creating 2 elements tuple using list comprehension.\n",
    "    print(f\" your combinations are {lst_of_tuple}\")"
   ]
  },
  {
   "cell_type": "code",
   "execution_count": 23,
   "id": "242c3799",
   "metadata": {},
   "outputs": [
    {
     "name": "stdout",
     "output_type": "stream",
     "text": [
      "Enter a positive even number \n",
      "44\n",
      "[2, 3, 5, 7, 11, 13, 17, 19, 23, 29, 31, 37, 41, 43]\n",
      " your combinations are [(3, 41), (7, 37), (13, 31)]\n"
     ]
    }
   ],
   "source": [
    "# povide a number to check its combinations\n",
    "number = int(input(\"Enter a positive even number \\n\"))\n",
    "prime_nos = prime_lst(number)\n",
    "print(prime_nos)\n",
    "goldbach(prime_nos,number)"
   ]
  },
  {
   "cell_type": "code",
   "execution_count": null,
   "id": "066278ad",
   "metadata": {},
   "outputs": [],
   "source": []
  },
  {
   "cell_type": "code",
   "execution_count": null,
   "id": "3cc008dc",
   "metadata": {},
   "outputs": [],
   "source": []
  },
  {
   "cell_type": "code",
   "execution_count": 9,
   "id": "612c8046",
   "metadata": {},
   "outputs": [],
   "source": [
    "##QUESTION 3"
   ]
  },
  {
   "cell_type": "code",
   "execution_count": null,
   "id": "4911efea",
   "metadata": {},
   "outputs": [],
   "source": [
    "#step 2\n",
    "# Creating a funtion which takes list as an input , using for loop to identifies all ements data type and appending that data\n",
    "# type into a list, than using another for loop to check least count a perticular data type to identify as a odd one."
   ]
  },
  {
   "cell_type": "code",
   "execution_count": 22,
   "id": "2f6bdcd5",
   "metadata": {},
   "outputs": [],
   "source": [
    "def Odd_one(val_lst):\n",
    "    out = []\n",
    "    \n",
    "    for z in val_lst:\n",
    "        out.append(type(z))\n",
    "    \n",
    "    for i in out:\n",
    "        if out.count(i) == 1:\n",
    "            print(f\"Odd one data type is {i}\")\n",
    "    "
   ]
  },
  {
   "cell_type": "code",
   "execution_count": null,
   "id": "f8df62e6",
   "metadata": {},
   "outputs": [],
   "source": [
    "#step 1\n",
    "# Taking input in a form of string list and then then coverting that list into its orignal data type using eval funtion\n",
    "# with list comprehension"
   ]
  },
  {
   "cell_type": "code",
   "execution_count": 25,
   "id": "d03d23c0",
   "metadata": {},
   "outputs": [
    {
     "name": "stdout",
     "output_type": "stream",
     "text": [
      "enter values \n",
      "75 69 31 True 78 69 31\n",
      "Odd one data type is <class 'bool'>\n"
     ]
    }
   ],
   "source": [
    "value = input(\"enter values \\n\").split()\n",
    "val_lst = [eval(i) for i in value] #converting it into orignal data type.\n",
    "Odd_one(val_lst)"
   ]
  },
  {
   "cell_type": "code",
   "execution_count": null,
   "id": "91013dc0",
   "metadata": {},
   "outputs": [],
   "source": []
  }
 ],
 "metadata": {
  "kernelspec": {
   "display_name": "Python 3 (ipykernel)",
   "language": "python",
   "name": "python3"
  },
  "language_info": {
   "codemirror_mode": {
    "name": "ipython",
    "version": 3
   },
   "file_extension": ".py",
   "mimetype": "text/x-python",
   "name": "python",
   "nbconvert_exporter": "python",
   "pygments_lexer": "ipython3",
   "version": "3.9.7"
  }
 },
 "nbformat": 4,
 "nbformat_minor": 5
}
